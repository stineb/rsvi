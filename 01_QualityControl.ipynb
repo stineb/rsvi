{
 "cells": [
  {
   "cell_type": "markdown",
   "id": "16d0b079-ddc0-4415-aef5-9a9ad93b7e5f",
   "metadata": {},
   "source": [
    "# Quality Control\n",
    "This is the first noebook of a serie of three:\n",
    "- 01_QualityControl: invalid entries of the data are replaced by NA \n",
    "- 02_MissingData_complete: the NA entries are filled depending on the chosen method can be analysed in \n",
    "- 03_Analysis: The input variables are analysed, the remaining NA values are deleted, further information from the sites is added and machine Learning is used to analyse the data and train a model to allow conclusions about soil moisture based on remotely sensing data\n",
    "\n",
    "#### This notebook uses:\n",
    "- data from the satellite products MOD09GA, MODOCGA, MOD11A1 and MYD11A1\n",
    "\n",
    "The data is publicly available satellite data from Aqua and Terra. It is available through google earth engine and ingestr (https://github.com/computationales/ingestr). A file with all the needed data is also in the folder data (./data/df_lst_and_refl.csv) or can be found on Euler.\n",
    "#### This notebook contains:\n",
    "- the quality control for each product\n",
    "- the replacement of values with NA in case of a failed quality control\n",
    "- the export of a csv file containing all relevant information and which of the entries passed the quality check (./data/FLUXNET_MODOCGA_MOD09GA_MYD11A1_MOD11A1.csv)"
   ]
  },
  {
   "cell_type": "code",
   "execution_count": 1,
   "id": "d70b2677-3832-4ab4-9a49-1eca3e94bff6",
   "metadata": {},
   "outputs": [],
   "source": [
    "# enables the use of R code in a cell after writing \"%%R making it an cell for R code \n",
    "%load_ext rpy2.ipython   "
   ]
  },
  {
   "cell_type": "markdown",
   "id": "f49e3048-d3bc-46a1-a1dd-1f6c378ba966",
   "metadata": {},
   "source": [
    "<span style=\"color:red\">**To do:**</span> Adapt working directory and download packages. To use the following packages they have to be installed first. Here are listed more packages than necessary since they will be needed later for the analysis: \n",
    "\n",
    "`install.packages(c(\"dplyr\",\"lubridate\",\"readr\",\"ggplot2\",\"tidyr\",\"caret\",\"tidyverse\",\"yardstick\",\"recipes\",\"devtools\",\"MODISTools\",\"binaryLogic\",\"patchwork\",\"LSD\",\"ggthemes\",\"RColorBrewer\"))`\n",
    "\n",
    "To install necessary dependencies for Debian based OS it might help to install the following things first (not within R):\n",
    "\n",
    "`sudo apt install build-essential libcurl4-gnutls-dev libxml2-dev libssl-dev libcurl4-openssl-dev` \n",
    "\n",
    "` sudo apt-get install -y libxml2-dev libcurl4-openssl-dev libssl-dev libproj` \n",
    "\n",
    "` sudo apt-get install libmysql++-dev` \n"
   ]
  },
  {
   "cell_type": "code",
   "execution_count": 2,
   "id": "59b5d161-c73b-4e96-b661-9a4d63b24013",
   "metadata": {
    "scrolled": true
   },
   "outputs": [
    {
     "name": "stderr",
     "output_type": "stream",
     "text": [
      "Failed to create bus connection: No such file or directory\n"
     ]
    }
   ],
   "source": [
    "%%capture\n",
    "%%R \n",
    "# set working directory\n",
    "setwd(\"/home/zhud/wsl/MasterThesis/rsvi\")\n",
    "\n",
    "source(\"remove_outliers.R\")     # code from predecessor\n",
    "\n",
    "library(dplyr)                 \n",
    "library(lubridate)              \n",
    "library(readr)\n",
    "library(ggplot2)\n",
    "library(tidyr)                  \n",
    "library(tidyverse) \n",
    "library(binaryLogic)"
   ]
  },
  {
   "cell_type": "code",
   "execution_count": 3,
   "id": "2e56bee0-1eda-4fd7-a041-b359210a2d3f",
   "metadata": {},
   "outputs": [
    {
     "name": "stdout",
     "output_type": "stream",
     "text": [
      "[1] FALSE\n"
     ]
    }
   ],
   "source": [
    "%%R\n",
    "# check if the output of this file was already created\n",
    "dataFile <- \"./data/FLUXNET_MODOCGA_MOD09GA1km_2000_2018_bands_processed.csv\"\n",
    "file.exists(dataFile)"
   ]
  },
  {
   "cell_type": "code",
   "execution_count": 4,
   "id": "cbaebdc1-8737-4853-b645-8fa70b619a36",
   "metadata": {},
   "outputs": [
    {
     "name": "stdout",
     "output_type": "stream",
     "text": [
      "Rows: 241826 Columns: 34\n",
      "── Column specification ────────────────────────────────────────────────────────\n",
      "Delimiter: \",\"\n",
      "chr  (2): id, sites\n",
      "dbl (32): date, year_dec_x, LST_Day_1km_terra, QC_Day_terra, year_dec_y, LST...\n",
      "\n",
      "ℹ Use `spec()` to retrieve the full column specification for this data.\n",
      "ℹ Specify the column types or set `show_col_types = FALSE` to quiet this message.\n",
      "# A tibble: 241,826 × 34\n",
      "    date year_dec_x id         LST_Day_1km_terra QC_Day_terra sites  year_dec_y\n",
      "   <dbl>      <dbl> <chr>                  <dbl>        <dbl> <chr>       <dbl>\n",
      " 1 14245      2009  2009_01_01              307.           65 AR-Vir      2009 \n",
      " 2 14246      2009. 2009_01_02               NA             2 AR-Vir      2009.\n",
      " 3 14247      2009. 2009_01_03               NA             2 AR-Vir      2009.\n",
      " 4 14248      2009. 2009_01_04              303.           65 AR-Vir      2009.\n",
      " 5 14249      2009. 2009_01_05              307.            0 AR-Vir      2009.\n",
      " 6 14250      2009. 2009_01_06              311.            0 AR-Vir      2009.\n",
      " 7 14251      2009. 2009_01_07              310.           65 AR-Vir      2009.\n",
      " 8 14252      2009. 2009_01_08              304.           65 AR-Vir      2009.\n",
      " 9 14253      2009. 2009_01_09               NA             2 AR-Vir      2009.\n",
      "10 14254      2009. 2009_01_10               NA             2 AR-Vir      2009.\n",
      "# … with 241,816 more rows, and 27 more variables: LST_Day_1km_aqua <dbl>,\n",
      "#   QC_Day_aqua <dbl>, sur_refl_b08 <dbl>, sur_refl_b09 <dbl>,\n",
      "#   sur_refl_b10 <dbl>, sur_refl_b11 <dbl>, sur_refl_b12 <dbl>,\n",
      "#   sur_refl_b13 <dbl>, sur_refl_b14 <dbl>, sur_refl_b15 <dbl>,\n",
      "#   QC_b8_15_1km <dbl>, YY <dbl>, site_num <dbl>, state_1km <dbl>, MM <dbl>,\n",
      "#   DD <dbl>, QC_500m <dbl>, QC_b8_15_1km_paula <dbl>, QC_b16_1km <dbl>,\n",
      "#   sur_refl_b01 <dbl>, sur_refl_b02 <dbl>, sur_refl_b03 <dbl>, …\n"
     ]
    }
   ],
   "source": [
    "%%R\n",
    "# read in the data (it should contain the rows sur_refl_b01, ..., sur_refl_b16, \n",
    "#                                              LST_Day_1km_aqua, LST_Day_1km_terra, \n",
    "#                                              QC_Day_terra, QC_Day_aqua, QC_500m, QC_b8_15_1km, QC_b16_1km \n",
    "#                                              date, id, DD, MM, YY\n",
    "data = read_csv('./data/df_lst_and_refl.csv')\n",
    "data"
   ]
  },
  {
   "cell_type": "markdown",
   "id": "eee34cfd-8487-466f-b73a-ef67d435ba61",
   "metadata": {},
   "source": [
    "## MOD09GA"
   ]
  },
  {
   "cell_type": "code",
   "execution_count": 5,
   "id": "b5076680-5a29-4849-811d-837e46573a3e",
   "metadata": {},
   "outputs": [],
   "source": [
    "%%R\n",
    "mod09 <- data %>% \n",
    "    dplyr::select(YY, MM, DD, sites, QC_500m, state_1km,                                                   ################ state_1km MODOCGA\n",
    "                  sur_refl_b01, sur_refl_b02, sur_refl_b03, sur_refl_b04, \n",
    "                  sur_refl_b05, sur_refl_b06, sur_refl_b07, \n",
    "                  ) %>% \n",
    "    mutate(date = ymd(paste(as.character(YY), as.character(MM), as.character(DD), sep=\"-\")))\n",
    "qflags_500 <- sort(unique(mod09$QC_500m)) "
   ]
  },
  {
   "cell_type": "code",
   "execution_count": 6,
   "id": "987b39e7-fb15-4897-8273-eeafe0d6b71c",
   "metadata": {},
   "outputs": [],
   "source": [
    "# %%R\n",
    "# dates_mod09  <- mod09 %>% \n",
    "#     mutate(date = ymd(paste(as.character(YY), as.character(MM), as.character(DD), sep=\"-\")))"
   ]
  },
  {
   "cell_type": "code",
   "execution_count": 7,
   "id": "f4a4ba82-e63b-477a-a54e-38db93fcfe0d",
   "metadata": {},
   "outputs": [],
   "source": [
    "%%R\n",
    "# create a dataframe in which the flags are read into\n",
    "QC_Data_500 <- data.frame(Integer_Value = qflags_500,  \n",
    "                        Bit31 = NA, \n",
    "                        Bit30 = NA, Bit29 = NA, Bit28 = NA, Bit27 = NA, Bit26 = NA, Bit25 = NA, Bit24 = NA, Bit23 = NA, Bit22 = NA, Bit21 = NA, \n",
    "                        Bit20 = NA, Bit19 = NA, Bit18 = NA, Bit17 = NA, Bit16 = NA, Bit15 = NA, Bit14 = NA, Bit13 = NA, Bit12 = NA, Bit11 = NA,\n",
    "                        Bit10 = NA, Bit9 = NA,  Bit8 = NA,  Bit7 = NA,  Bit6 = NA,  Bit5 = NA,  Bit4 = NA,  Bit3 = NA,  Bit2 = NA,  Bit1 = NA,\n",
    "                        Bit0 = NA)\n"
   ]
  },
  {
   "cell_type": "code",
   "execution_count": 8,
   "id": "9b629c87-1725-4e2a-a964-4a62cb630847",
   "metadata": {},
   "outputs": [],
   "source": [
    "%%R\n",
    "# read the integers of qflags_500 into the relevant columns of QC_Data_500\n",
    "r <- 0\n",
    "for (i in QC_Data_500$Integer_Value){\n",
    "    AsInt <- as.integer(intToBits(i))\n",
    "    # AsInt <- as.integer(as.logical(as.binary(i, n=32, logic=F)))\n",
    "    QC_Data_500[r+1,2:33]<- AsInt[32:1] # changed from AsInt[32:1] - otherwise Bit0 would not be the LSB as described in the mod09 User Guide\n",
    "    r <- r+1\n",
    "}"
   ]
  },
  {
   "cell_type": "code",
   "execution_count": 9,
   "id": "f1d2e9df-97e9-4b8e-ac12-4f4c51a24d60",
   "metadata": {
    "scrolled": true,
    "tags": []
   },
   "outputs": [
    {
     "name": "stdout",
     "output_type": "stream",
     "text": [
      "Note: Using an external vector in selections is ambiguous.\n",
      "ℹ Use `all_of(all_bands)` instead of `all_bands` to silence this message.\n",
      "ℹ See <https://tidyselect.r-lib.org/reference/faq-external-vector.html>.\n",
      "This message is displayed once per session.\n",
      "Note: Using an external vector in selections is ambiguous.\n",
      "ℹ Use `all_of(b1)` instead of `b1` to silence this message.\n",
      "ℹ See <https://tidyselect.r-lib.org/reference/faq-external-vector.html>.\n",
      "This message is displayed once per session.\n",
      "Note: Using an external vector in selections is ambiguous.\n",
      "ℹ Use `all_of(b2)` instead of `b2` to silence this message.\n",
      "ℹ See <https://tidyselect.r-lib.org/reference/faq-external-vector.html>.\n",
      "This message is displayed once per session.\n",
      "Note: Using an external vector in selections is ambiguous.\n",
      "ℹ Use `all_of(b3)` instead of `b3` to silence this message.\n",
      "ℹ See <https://tidyselect.r-lib.org/reference/faq-external-vector.html>.\n",
      "This message is displayed once per session.\n",
      "Note: Using an external vector in selections is ambiguous.\n",
      "ℹ Use `all_of(b4)` instead of `b4` to silence this message.\n",
      "ℹ See <https://tidyselect.r-lib.org/reference/faq-external-vector.html>.\n",
      "This message is displayed once per session.\n",
      "Note: Using an external vector in selections is ambiguous.\n",
      "ℹ Use `all_of(b5)` instead of `b5` to silence this message.\n",
      "ℹ See <https://tidyselect.r-lib.org/reference/faq-external-vector.html>.\n",
      "This message is displayed once per session.\n",
      "Note: Using an external vector in selections is ambiguous.\n",
      "ℹ Use `all_of(b6)` instead of `b6` to silence this message.\n",
      "ℹ See <https://tidyselect.r-lib.org/reference/faq-external-vector.html>.\n",
      "This message is displayed once per session.\n",
      "Note: Using an external vector in selections is ambiguous.\n",
      "ℹ Use `all_of(b7)` instead of `b7` to silence this message.\n",
      "ℹ See <https://tidyselect.r-lib.org/reference/faq-external-vector.html>.\n",
      "This message is displayed once per session.\n",
      "Note: Using an external vector in selections is ambiguous.\n",
      "ℹ Use `all_of(atmospheric_correction)` instead of `atmospheric_correction` to silence this message.\n",
      "ℹ See <https://tidyselect.r-lib.org/reference/faq-external-vector.html>.\n",
      "This message is displayed once per session.\n",
      "Note: Using an external vector in selections is ambiguous.\n",
      "ℹ Use `all_of(adjacency_correction)` instead of `adjacency_correction` to silence this message.\n",
      "ℹ See <https://tidyselect.r-lib.org/reference/faq-external-vector.html>.\n",
      "This message is displayed once per session.\n"
     ]
    }
   ],
   "source": [
    "%%R\n",
    "my_data <- as_tibble(QC_Data_500)\n",
    "\n",
    "# columns with the bits of interest for QC_500 of MOD09A1\n",
    "# more information about the interpreatiion of the flags of QC_500 can be found here:\n",
    "# https://lpdaac.usgs.gov/products/mod09gav006/\n",
    "all_bands <- c(33:32)                # Bit 0 and 1\n",
    "b1 <- c(31:28)                       # Bit 2 - 5\n",
    "b2 <- c(27:24)                       # Bit 6 - 9\n",
    "b3 <- c(23:20)                       # Bit 10 - 13\n",
    "b4 <- c(19:16)                       # Bit 14 - 17\n",
    "b5 <- c(15:12)                       # Bit 18 - 21 \n",
    "b6 <- c(11:8)                        # Bit 22 - 25 \n",
    "b7 <- c(7:4)                         # Bit 26 - 29 \n",
    "atmospheric_correction <- c(3:3)     # Bit 30\n",
    "adjacency_correction <- c(2:2)       # Bit 31\n",
    "\n",
    "# select valid QC_500 values depending on the bands\n",
    "# selects the first column (select(1) if all Bits are 0 filter_at(vars(-Integer_Value), all_vars(.== 0), of the selected Bits b1 (select(1,b1) --> Bit 2 to 5) of the data (my_data)\n",
    "# select(my_data, all_bands)\n",
    "filter_qflags_qc_all_bands <- my_data %>% select(1,all_bands) %>% filter_at(vars(-Integer_Value), all_vars(.== 0)) %>% select(1)\n",
    "filter_qflags_qc_b1 <- my_data %>% select(1,b1) %>% filter_at(vars(-Integer_Value), all_vars(.== 0)) %>% select(1)\n",
    "filter_qflags_qc_b2 <- my_data %>% select(1,b2) %>% filter_at(vars(-Integer_Value), all_vars(.== 0)) %>% select(1)\n",
    "filter_qflags_qc_b3 <- my_data %>% select(1,b3) %>% filter_at(vars(-Integer_Value), all_vars(.== 0)) %>% select(1)\n",
    "filter_qflags_qc_b4 <- my_data %>% select(1,b4) %>% filter_at(vars(-Integer_Value), all_vars(.== 0)) %>% select(1)\n",
    "filter_qflags_qc_b5 <- my_data %>% select(1,b5) %>% filter_at(vars(-Integer_Value), all_vars(.== 0)) %>% select(1)\n",
    "filter_qflags_qc_b6 <- my_data %>% select(1,b6) %>% filter_at(vars(-Integer_Value), all_vars(.== 0)) %>% select(1)\n",
    "filter_qflags_qc_b7 <- my_data %>% select(1,b7) %>% filter_at(vars(-Integer_Value), all_vars(.== 0)) %>% select(1)\n",
    "filter_qflags_qc_atmospheric_correction <- my_data %>% select(1,atmospheric_correction) %>% filter_at(vars(-Integer_Value), all_vars(.== 1)) %>% select(1)\n",
    "filter_qflags_qc_adjacency_correction <- my_data %>% select(1,adjacency_correction) %>% filter_at(vars(-Integer_Value), all_vars(.== 1)) %>% select(1)"
   ]
  },
  {
   "cell_type": "code",
   "execution_count": 10,
   "id": "b75c1392-19a8-4a88-81fb-80bfc2bf749e",
   "metadata": {},
   "outputs": [],
   "source": [
    "%%R\n",
    "#  copy data into new columns and replace it with NA if quality check failed\n",
    "mod09$b01 <- mod09$sur_refl_b01 \n",
    "mod09$b01[!mod09$QC_500m %in% filter_qflags_qc_b1$Integer_Value] <- NA\n",
    "mod09$b02 <- mod09$sur_refl_b02\n",
    "mod09$b01[!mod09$QC_500m %in% filter_qflags_qc_b1$Integer_Value] <- NA\n",
    "mod09$b03 <- mod09$sur_refl_b03 \n",
    "mod09$b03[!mod09$QC_500m %in% filter_qflags_qc_b3$Integer_Value] <- NA\n",
    "mod09$b04 <- mod09$sur_refl_b04\n",
    "mod09$b04[!mod09$QC_500m %in% filter_qflags_qc_b4$Integer_Value] <- NA\n",
    "mod09$b05 <- mod09$sur_refl_b05\n",
    "mod09$b05[!mod09$QC_500m %in% filter_qflags_qc_b5$Integer_Value] <- NA\n",
    "mod09$b06 <- mod09$sur_refl_b06 \n",
    "mod09$b06[!mod09$QC_500m %in% filter_qflags_qc_b6$Integer_Value] <- NA\n",
    "mod09$b07 <- mod09$sur_refl_b07\n",
    "mod09$b07[!mod09$QC_500m %in% filter_qflags_qc_b7$Integer_Value] <- NA"
   ]
  },
  {
   "cell_type": "code",
   "execution_count": 11,
   "id": "48938783-c982-4c1c-8798-db252c483f94",
   "metadata": {
    "scrolled": true,
    "tags": []
   },
   "outputs": [],
   "source": [
    "%%R\n",
    "# adds a flag column if quality check is passed/if corrected (atmospheric and adjacency correction)   \n",
    "mod09$qc_flag_all_bands<- isTRUE(mod09$QC_500m %in% filter_qflags_qc_all_bands$Integer_Value)\n",
    "mod09$qc_flag_b01 <- mod09$QC_500m %in% filter_qflags_qc_b1$Integer_Value\n",
    "mod09$qc_flag_b02 <- mod09$QC_500m %in% filter_qflags_qc_b2$Integer_Value\n",
    "mod09$qc_flag_b03 <- mod09$QC_500m %in% filter_qflags_qc_b3$Integer_Value\n",
    "mod09$qc_flag_b04 <- mod09$QC_500m %in% filter_qflags_qc_b4$Integer_Value\n",
    "mod09$qc_flag_b05 <- mod09$QC_500m %in% filter_qflags_qc_b5$Integer_Value\n",
    "mod09$qc_flag_b06 <- mod09$QC_500m %in% filter_qflags_qc_b6$Integer_Value\n",
    "mod09$qc_flag_b07 <- mod09$QC_500m %in% filter_qflags_qc_b7$Integer_Value\n",
    "mod09$qc_flag_atmospheric_correction<- mod09$QC_500m %in% filter_qflags_qc_atmospheric_correction$Integer_Value\n",
    "mod09$qc_flag_adjacency_correction<- mod09$QC_500m %in% filter_qflags_qc_adjacency_correction$Integer_Value"
   ]
  },
  {
   "cell_type": "markdown",
   "id": "32fd06f9-1cbe-486a-a95d-9c7f8b413c8e",
   "metadata": {},
   "source": [
    "## MODOCGA"
   ]
  },
  {
   "cell_type": "code",
   "execution_count": 12,
   "id": "38622367-ba89-43f1-88b9-f28e1d9ba204",
   "metadata": {},
   "outputs": [],
   "source": [
    "%%R\n",
    "modocga <- data %>% \n",
    "    dplyr::select(YY, MM, DD, sites, QC_b8_15_1km, QC_b16_1km, \n",
    "                  sur_refl_b08, sur_refl_b09, sur_refl_b10, \n",
    "                  sur_refl_b11, sur_refl_b12, sur_refl_b13, \n",
    "                  sur_refl_b14, sur_refl_b15, sur_refl_b16) %>% \n",
    "    mutate(date = ymd(paste(as.character(YY), as.character(MM), as.character(DD), sep=\"-\")))"
   ]
  },
  {
   "cell_type": "code",
   "execution_count": 13,
   "id": "3354aeec-7e7a-4385-98a9-bbc9d6be2870",
   "metadata": {
    "tags": []
   },
   "outputs": [],
   "source": [
    "%%R\n",
    "# information on the quality control flags can be found here:\n",
    "# https://ladsweb.modaps.eosdis.nasa.gov/filespec/MODIS/6/MODOCGA\n",
    "qflags_modocga_b8_to_b15 <- sort(unique(modocga$QC_b8_15_1km))# 32 bits\n",
    "qflags_modocga_b16       <- sort(unique(modocga$QC_b16_1km))# 8 bits\n",
    "qflags_state             <- sort(unique(modocga$QC_b16_1km))# 16 bit"
   ]
  },
  {
   "cell_type": "code",
   "execution_count": 14,
   "id": "3fca186b-ad93-4680-aa64-914fdd145609",
   "metadata": {
    "tags": []
   },
   "outputs": [],
   "source": [
    "%%R\n",
    "# create dataframes in which the flags are read into\n",
    "QC_Data_MODOCGA_b8_b15<- data.frame(Integer_Value = qflags_modocga_b8_to_b15, \n",
    "                        Bit31 = NA, \n",
    "                        Bit30 = NA, Bit29 = NA, Bit28 = NA, Bit27 = NA, Bit26 = NA, Bit25 = NA, Bit24 = NA, Bit23 = NA, Bit22 = NA, Bit21 = NA, \n",
    "                        Bit20 = NA, Bit19 = NA, Bit18 = NA, Bit17 = NA, Bit16 = NA, Bit15 = NA, Bit14 = NA, Bit13 = NA, Bit12 = NA, Bit11 = NA,\n",
    "                        Bit10 = NA, Bit9 = NA,  Bit8 = NA,  Bit7 = NA,  Bit6 = NA,  Bit5 = NA,  Bit4 = NA,  Bit3 = NA,  Bit2 = NA,  Bit1 = NA,\n",
    "                        Bit0 = NA)\n",
    "QC_Data_MODOCGA_b16<- data.frame(Integer_Value = qflags_modocga_b16, \n",
    "                        Bit7 = NA,  Bit6 = NA,  Bit5 = NA,  Bit4 = NA,  Bit3 = NA,  Bit2 = NA,  Bit1 = NA,\n",
    "                        Bit0 = NA)\n",
    "QC_Data_state <- data.frame(Integer_Value = qflags_state, \n",
    "                        Bit15 = NA, Bit14 = NA, Bit13 = NA, Bit12 = NA, Bit11 = NA,\n",
    "                        Bit10 = NA, Bit9 = NA,  Bit8 = NA,  Bit7 = NA,  Bit6 = NA,  Bit5 = NA,  Bit4 = NA,  Bit3 = NA,  Bit2 = NA,  Bit1 = NA,\n",
    "                        Bit0 = NA)"
   ]
  },
  {
   "cell_type": "code",
   "execution_count": 15,
   "id": "a98a2037-f690-4d05-be5e-1de0915c2a06",
   "metadata": {},
   "outputs": [],
   "source": [
    "%%R\n",
    "# read the integers of the qflags into the relevant columns of QC_Data\n",
    "r <- 0\n",
    "for (i in QC_Data_MODOCGA_b8_b15$Integer_Value){\n",
    "    AsInt <- as.integer(intToBits(i)) # reads in LSB first \n",
    "    # AsInt <- as.integer(as.logical(as.binary(i, n=32, logic=F)))\n",
    "    QC_Data_MODOCGA_b8_b15[r+1,2:33]<- AsInt[32:1] #  AsInt[32:1] - otherwise Bit0 would not be the LSB as described in the mod09 User Guide\n",
    "    r <- r+1\n",
    "}\n",
    "r <- 0\n",
    "for (i in QC_Data_MODOCGA_b16$Integer_Value){\n",
    "    AsInt <- as.integer(intToBits(i)) # reads in LSB first \n",
    "    # AsInt <- as.integer(as.logical(as.binary(i, n=32, logic=F)))\n",
    "    QC_Data_MODOCGA_b16[r+1,2:9]<- AsInt[8:1] #  AsInt[32:1] - otherwise Bit0 would not be the LSB as described in the mod09 User Guide\n",
    "    r <- r+1\n",
    "}"
   ]
  },
  {
   "cell_type": "code",
   "execution_count": 16,
   "id": "f6ab9640-0016-4319-a1c4-c04d329de771",
   "metadata": {
    "scrolled": true,
    "tags": []
   },
   "outputs": [
    {
     "name": "stdout",
     "output_type": "stream",
     "text": [
      "Note: Using an external vector in selections is ambiguous.\n",
      "ℹ Use `all_of(b8)` instead of `b8` to silence this message.\n",
      "ℹ See <https://tidyselect.r-lib.org/reference/faq-external-vector.html>.\n",
      "This message is displayed once per session.\n",
      "Note: Using an external vector in selections is ambiguous.\n",
      "ℹ Use `all_of(b9)` instead of `b9` to silence this message.\n",
      "ℹ See <https://tidyselect.r-lib.org/reference/faq-external-vector.html>.\n",
      "This message is displayed once per session.\n",
      "Note: Using an external vector in selections is ambiguous.\n",
      "ℹ Use `all_of(b10)` instead of `b10` to silence this message.\n",
      "ℹ See <https://tidyselect.r-lib.org/reference/faq-external-vector.html>.\n",
      "This message is displayed once per session.\n",
      "Note: Using an external vector in selections is ambiguous.\n",
      "ℹ Use `all_of(b11)` instead of `b11` to silence this message.\n",
      "ℹ See <https://tidyselect.r-lib.org/reference/faq-external-vector.html>.\n",
      "This message is displayed once per session.\n",
      "Note: Using an external vector in selections is ambiguous.\n",
      "ℹ Use `all_of(b12)` instead of `b12` to silence this message.\n",
      "ℹ See <https://tidyselect.r-lib.org/reference/faq-external-vector.html>.\n",
      "This message is displayed once per session.\n",
      "Note: Using an external vector in selections is ambiguous.\n",
      "ℹ Use `all_of(b13)` instead of `b13` to silence this message.\n",
      "ℹ See <https://tidyselect.r-lib.org/reference/faq-external-vector.html>.\n",
      "This message is displayed once per session.\n",
      "Note: Using an external vector in selections is ambiguous.\n",
      "ℹ Use `all_of(b14)` instead of `b14` to silence this message.\n",
      "ℹ See <https://tidyselect.r-lib.org/reference/faq-external-vector.html>.\n",
      "This message is displayed once per session.\n",
      "Note: Using an external vector in selections is ambiguous.\n",
      "ℹ Use `all_of(b15)` instead of `b15` to silence this message.\n",
      "ℹ See <https://tidyselect.r-lib.org/reference/faq-external-vector.html>.\n",
      "This message is displayed once per session.\n",
      "Note: Using an external vector in selections is ambiguous.\n",
      "ℹ Use `all_of(b16)` instead of `b16` to silence this message.\n",
      "ℹ See <https://tidyselect.r-lib.org/reference/faq-external-vector.html>.\n",
      "This message is displayed once per session.\n"
     ]
    }
   ],
   "source": [
    "%%R\n",
    "my_data_b8_b15 <- as_tibble(QC_Data_MODOCGA_b8_b15)\n",
    "my_data_b16 <- as_tibble(QC_Data_MODOCGA_b16)\n",
    "# columns with the bits of interest for QC_1000 of MODOCGA\n",
    "# https://ladsweb.modaps.eosdis.nasa.gov/filespec/MODIS/6/MODOCGA\n",
    "b8 <- c(33:30)                       # Bit 0 - 3\n",
    "b9 <- c(29:26)                       # Bit 4 - 7\n",
    "b10 <- c(25:22)                      # Bit 8 - 11\n",
    "b11 <- c(21:18)                      # Bit 12 - 15\n",
    "b12 <- c(17:14)                      # Bit 16 - 19 \n",
    "b13 <- c(13:10)                      # Bit 20 - 23 \n",
    "b14 <- c(9:6)                        # Bit 24 - 27 \n",
    "b15 <- c(5:2)                        # Bit 28 - 31 \n",
    "b16 <- c(5:2)                        # Bit 4 - 7\n",
    "\n",
    "# select valid QC_500 depending on the bands\n",
    "# selects the first column (select(1) if all Bits are 0 filter_at(vars(-Integer_Value), all_vars(.== 0), of the selected Bits b1 (select(1,b1) --> Bit 2 to 5) of the data (my_data)\n",
    "# select(my_data, all_bands)\n",
    "filter_qflags_qc_b08 <- my_data_b8_b15 %>% select(1,b8) %>% filter_at(vars(-Integer_Value), all_vars(.== 0)) %>% select(1)\n",
    "filter_qflags_qc_b09 <- my_data_b8_b15 %>% select(1,b9) %>% filter_at(vars(-Integer_Value), all_vars(.== 0)) %>% select(1)\n",
    "filter_qflags_qc_b10 <- my_data_b8_b15 %>% select(1,b10) %>% filter_at(vars(-Integer_Value), all_vars(.== 0)) %>% select(1)\n",
    "filter_qflags_qc_b11 <- my_data_b8_b15 %>% select(1,b11) %>% filter_at(vars(-Integer_Value), all_vars(.== 0)) %>% select(1)\n",
    "filter_qflags_qc_b12 <- my_data_b8_b15 %>% select(1,b12) %>% filter_at(vars(-Integer_Value), all_vars(.== 0)) %>% select(1)\n",
    "filter_qflags_qc_b13 <- my_data_b8_b15 %>% select(1,b13) %>% filter_at(vars(-Integer_Value), all_vars(.== 0)) %>% select(1)\n",
    "filter_qflags_qc_b14 <- my_data_b8_b15 %>% select(1,b14) %>% filter_at(vars(-Integer_Value), all_vars(.== 0)) %>% select(1)\n",
    "filter_qflags_qc_b15 <- my_data_b8_b15 %>% select(1,b15) %>% filter_at(vars(-Integer_Value), all_vars(.== 0)) %>% select(1)\n",
    "filter_qflags_qc_b16 <- my_data_b16 %>% select(1,b16) %>% filter_at(vars(-Integer_Value), all_vars(.== 0)) %>% select(1)\n"
   ]
  },
  {
   "cell_type": "code",
   "execution_count": 17,
   "id": "deb9dd5a-d9d1-43a2-88ae-0ab1126ef8da",
   "metadata": {},
   "outputs": [],
   "source": [
    "%%R\n",
    "#  copy data into new columns and replace it with NA if quality check failed\n",
    "modocga$b08 <- modocga$sur_refl_b08\n",
    "modocga$b08[!modocga$QC_b8_15_1km %in% filter_qflags_qc_b08$Integer_Value] <- NA\n",
    "modocga$b09 <- modocga$sur_refl_b09\n",
    "modocga$b09[!modocga$QC_b8_15_1km %in% filter_qflags_qc_b09$Integer_Value] <- NA\n",
    "modocga$b10 <- modocga$sur_refl_b10\n",
    "modocga$b10[!modocga$QC_b8_15_1km %in% filter_qflags_qc_b10$Integer_Value] <- NA\n",
    "modocga$b11 <- modocga$sur_refl_b11\n",
    "modocga$b11[!modocga$QC_b8_15_1km %in% filter_qflags_qc_b11$Integer_Value] <- NA\n",
    "modocga$b12 <- modocga$sur_refl_b12\n",
    "modocga$b12[!modocga$QC_b8_15_1km %in% filter_qflags_qc_b12$Integer_Value] <- NA\n",
    "modocga$b13 <- modocga$sur_refl_b13\n",
    "modocga$b13[!modocga$QC_b8_15_1km %in% filter_qflags_qc_b13$Integer_Value] <- NA\n",
    "modocga$b14 <- modocga$sur_refl_b14\n",
    "modocga$b14[!modocga$QC_b8_15_1km %in% filter_qflags_qc_b14$Integer_Value] <- NA\n",
    "modocga$b15 <- modocga$sur_refl_b15\n",
    "modocga$b15[!modocga$QC_b8_15_1km %in% filter_qflags_qc_b15$Integer_Value] <- NA\n",
    "modocga$b16 <- modocga$sur_refl_b16\n",
    "modocga$b16[!modocga$QC_b16_1km %in% filter_qflags_qc_b16$Integer_Value] <- NA\n",
    "\n"
   ]
  },
  {
   "cell_type": "code",
   "execution_count": 18,
   "id": "dfe8a308-b082-4192-b937-45aed6e198bc",
   "metadata": {
    "scrolled": true,
    "tags": []
   },
   "outputs": [],
   "source": [
    "%%R\n",
    "# adds a flag column if quality check is passed (TRUE)\n",
    "modocga$qc_flag_b08 <- modocga$QC_b8_15_1km %in% filter_qflags_qc_b08$Integer_Value\n",
    "modocga$qc_flag_b09 <- modocga$QC_b8_15_1km %in% filter_qflags_qc_b09$Integer_Value\n",
    "modocga$qc_flag_b10 <- modocga$QC_b8_15_1km %in% filter_qflags_qc_b10$Integer_Value\n",
    "modocga$qc_flag_b11 <- modocga$QC_b8_15_1km %in% filter_qflags_qc_b11$Integer_Value\n",
    "modocga$qc_flag_b12 <- modocga$QC_b8_15_1km %in% filter_qflags_qc_b12$Integer_Value\n",
    "modocga$qc_flag_b13 <- modocga$QC_b8_15_1km %in% filter_qflags_qc_b13$Integer_Value\n",
    "modocga$qc_flag_b14 <- modocga$QC_b8_15_1km %in% filter_qflags_qc_b14$Integer_Value\n",
    "modocga$qc_flag_b15 <- modocga$QC_b8_15_1km %in% filter_qflags_qc_b15$Integer_Value\n",
    "modocga$qc_flag_b16 <- modocga$QC_b16_1km %in% filter_qflags_qc_b16$Integer_Value"
   ]
  },
  {
   "cell_type": "markdown",
   "id": "25b7fd56-d529-4a2d-aab4-3c97316b31c0",
   "metadata": {},
   "source": [
    "## Land Surface Temperatures"
   ]
  },
  {
   "cell_type": "code",
   "execution_count": 19,
   "id": "298d9593-90e4-448c-9fc3-e375ebecc745",
   "metadata": {},
   "outputs": [],
   "source": [
    "%%R\n",
    "df_lst_terra <- data %>% \n",
    "    dplyr::select(YY, MM, DD, sites,LST_Day_1km_terra, QC_Day_terra) %>% \n",
    "    mutate(date = ymd(paste(as.character(YY), as.character(MM), as.character(DD), sep=\"-\")))\n",
    "df_lst_aqua <- data %>% \n",
    "    dplyr::select(YY, MM, DD, sites,LST_Day_1km_aqua, QC_Day_aqua) %>% \n",
    "    mutate(date = ymd(paste(as.character(YY), as.character(MM), as.character(DD), sep=\"-\")))\n"
   ]
  },
  {
   "cell_type": "code",
   "execution_count": 20,
   "id": "91a96ffc-5a12-411d-afe3-41e58bf4c871",
   "metadata": {},
   "outputs": [],
   "source": [
    "%%R\n",
    "# https://lpdaac.usgs.gov/documents/118/MOD11_User_Guide_V6.pdf\n",
    "qflags_lst_terra <- sort(unique(df_lst_terra$QC_Day_terra)) # 8 bits\n",
    "qflags_lst_aqua <- sort(unique(df_lst_aqua$QC_Day_aqua)) # 8 bits\n"
   ]
  },
  {
   "cell_type": "code",
   "execution_count": 21,
   "id": "8f471398-e6b1-4af2-9663-bd51d0575ddb",
   "metadata": {},
   "outputs": [],
   "source": [
    "%%R\n",
    "# create dataframes in which the flags are read into\n",
    "QC_lst_terra <- data.frame(Integer_Value = qflags_lst_terra, \n",
    "                        Bit7 = NA,  Bit6 = NA,  Bit5 = NA,  Bit4 = NA,  Bit3 = NA,  Bit2 = NA,  Bit1 = NA,\n",
    "                        Bit0 = NA)\n",
    "QC_lst_aqua <- data.frame(Integer_Value = qflags_lst_aqua, \n",
    "                        Bit7 = NA,  Bit6 = NA,  Bit5 = NA,  Bit4 = NA,  Bit3 = NA,  Bit2 = NA,  Bit1 = NA,\n",
    "                        Bit0 = NA)"
   ]
  },
  {
   "cell_type": "code",
   "execution_count": 22,
   "id": "465c650a-f8ef-4b95-8b40-93f1dd2145e2",
   "metadata": {},
   "outputs": [],
   "source": [
    "%%R\n",
    "# read the integers of the qflags into the relevant columns of QC_lst\n",
    "r <- 0\n",
    "for (i in QC_lst_terra$Integer_Value){\n",
    "    AsInt <- as.integer(intToBits(i)) # reads in LSB first \n",
    "    QC_lst_terra[r+1,2:9]<- AsInt[8:1]\n",
    "    r <- r+1\n",
    "}\n",
    "r <- 0\n",
    "for (i in QC_lst_aqua$Integer_Value){\n",
    "    AsInt <- as.integer(intToBits(i)) # reads in LSB first \n",
    "    QC_lst_aqua[r+1,2:9]<- AsInt[8:1] \n",
    "    r <- r+1\n",
    "}"
   ]
  },
  {
   "cell_type": "code",
   "execution_count": 23,
   "id": "cc13be72-0db8-4edc-a648-7331b6ab6348",
   "metadata": {},
   "outputs": [
    {
     "name": "stdout",
     "output_type": "stream",
     "text": [
      "Note: Using an external vector in selections is ambiguous.\n",
      "ℹ Use `all_of(good_quality)` instead of `good_quality` to silence this message.\n",
      "ℹ See <https://tidyselect.r-lib.org/reference/faq-external-vector.html>.\n",
      "This message is displayed once per session.\n",
      "Note: Using an external vector in selections is ambiguous.\n",
      "ℹ Use `all_of(emissitivity_error)` instead of `emissitivity_error` to silence this message.\n",
      "ℹ See <https://tidyselect.r-lib.org/reference/faq-external-vector.html>.\n",
      "This message is displayed once per session.\n",
      "Note: Using an external vector in selections is ambiguous.\n",
      "ℹ Use `all_of(lst_error)` instead of `lst_error` to silence this message.\n",
      "ℹ See <https://tidyselect.r-lib.org/reference/faq-external-vector.html>.\n",
      "This message is displayed once per session.\n"
     ]
    }
   ],
   "source": [
    "%%R\n",
    "qc_lst_aqua <- as_tibble(QC_lst_aqua)\n",
    "# columns with the bits of interest for QC_Day of MYD11A1\n",
    "# starts with LSB\n",
    "# https://lpdaac.usgs.gov/documents/118/MOD11_User_Guide_V6.pdf\n",
    "overall <- c(9:8)                          # Bit 0, 1: 00=LST produced, good quality, not necessary to examine more detailed QA \n",
    "                                           #           01=LST produced, other quality, recommend examination of more detailed QA\n",
    "                                           #           10=LST not produced due to cloud effects \n",
    "                                           #           11=LST not produced primarily due to reasons other than cloud\n",
    "good_quality <- c(7:6)                     # Bit 3, 2: 00=good data quality \n",
    "                                           #           01=other quality data\n",
    "                                           #           10=TBD\n",
    "                                           #           11=TBD\n",
    "emissitivity_error <- c(5:4)               # Bit 5, 4: 00=average emissivity error <= 0.01 \n",
    "                                           #           01=average emissivity error <= 0.02\n",
    "                                           #           10=average emissivity error <= 0.04\n",
    "                                           #           11=average emissivity error > 0.04\n",
    "lst_error <- c(3:2)                        # Bit 7, 6: 00=average LST error <= 1K \n",
    "                                           #           01=average LST error <= 2K \n",
    "                                           #           10=average LST error <= 3K\n",
    "                                           #           11=average LST error > 3K\n",
    "\n",
    "# select valid QC_Day: only of the quality control indicates good data quality will the data be accepted\n",
    "qc_overall            <- qc_lst_aqua %>% select(1,all_of(overall)) %>% filter_at(vars(-Integer_Value), all_vars(.== 0)) %>% select(1)\n",
    "qc_good_quality       <- qc_lst_aqua %>% select(1,good_quality) %>% filter_at(vars(-Integer_Value), all_vars(.== 0)) %>% select(1)\n",
    "qc_emissitivity_error <- qc_lst_aqua %>% select(1,emissitivity_error) %>% filter_at(vars(-Integer_Value), all_vars(.== 0)) %>% select(1)\n",
    "qc_lst_error          <- qc_lst_aqua %>% select(1,lst_error) %>% filter_at(vars(-Integer_Value), all_vars(.== 0)) %>% select(1)\n",
    "qc_accepted_aqua      <- rbind(qc_overall,qc_good_quality)"
   ]
  },
  {
   "cell_type": "code",
   "execution_count": 24,
   "id": "5a263133-eced-4a18-b3dd-b9bf742bcb80",
   "metadata": {},
   "outputs": [],
   "source": [
    "%%R\n",
    "qc_lst_terra <- as_tibble(QC_lst_terra)\n",
    "# columns with the bits of interest for QC_Day of MOD11A1\n",
    "# starts with LSB\n",
    "# https://lpdaac.usgs.gov/documents/118/MOD11_User_Guide_V6.pdf\n",
    "overall <- c(9:8)                          # Bit 0, 1: 00=LST produced, good quality, not necessary to examine more detailed QA \n",
    "                                           #           01=LST produced, other quality, recommend examination of more detailed QA\n",
    "                                           #           10=LST not produced due to cloud effects \n",
    "                                           #           11=LST not produced primarily due to reasons other than cloud\n",
    "good_quality <- c(7:6)                     # Bit 3, 2: 00=good data quality \n",
    "                                           #           01=other quality data\n",
    "                                           #           10=TBD\n",
    "                                           #           11=TBD\n",
    "emissitivity_error <- c(5:4)               # Bit 5, 4: 00=also\n",
    "                                           #           01=average emissivity error <= 0.02\n",
    "                                           #           10=average emissivity error <= 0.04\n",
    "                                           #           11=average emissivity error > 0.04\n",
    "lst_error <- c(3:2)                        # Bit 7, 6: 00=average LST error <= 1K \n",
    "                                           #           01=average LST error <= 2K \n",
    "                                           #           10=average LST error <= 3K\n",
    "                                           #           11=average LST error > 3K\n",
    "\n",
    "# select valid QC_Day: only of the quality control indicates good data quality will the data be accepted\n",
    "qc_overall            <- qc_lst_aqua %>% select(1,all_of(overall)) %>% filter_at(vars(-Integer_Value), all_vars(.== 0)) %>% select(1)\n",
    "qc_good_quality       <- qc_lst_aqua %>% select(1,good_quality) %>% filter_at(vars(-Integer_Value), all_vars(.== 0)) %>% select(1)\n",
    "qc_emissitivity_error <- qc_lst_aqua %>% select(1,emissitivity_error) %>% filter_at(vars(-Integer_Value), all_vars(.== 0)) %>% select(1)\n",
    "qc_lst_error          <- qc_lst_aqua %>% select(1,lst_error) %>% filter_at(vars(-Integer_Value), all_vars(.== 0)) %>% select(1)\n",
    "qc_accepted_terra     <- rbind(qc_overall,qc_good_quality)\n"
   ]
  },
  {
   "cell_type": "code",
   "execution_count": 25,
   "id": "0da62948-f77c-452b-847f-4e16c6a0ffb2",
   "metadata": {
    "tags": []
   },
   "outputs": [],
   "source": [
    "%%R\n",
    "#  copy data into new columns and replace it with NA if quality check failed\n",
    "df_lst_terra$lst_terra <- df_lst_terra$LST_Day_1km_terra\n",
    "df_lst_terra$lst_terra[!df_lst_terra$QC_Day_terra %in% qc_accepted_terra$Integer_Value] <- NA\n",
    "df_lst_aqua$lst_aqua <- df_lst_aqua$LST_Day_1km_aqua\n",
    "df_lst_aqua$lst_aqua[!df_lst_aqua$QC_Day_aqua %in% qc_accepted_aqua$Integer_Value] <- NA"
   ]
  },
  {
   "cell_type": "markdown",
   "id": "a64a4f10-b14d-4e36-a39d-0125fbd42d2c",
   "metadata": {},
   "source": [
    "## Merge MOD09GA, MODOCGA, MOD11A1 and MYD11A1"
   ]
  },
  {
   "cell_type": "code",
   "execution_count": 26,
   "id": "cd732e58-61d4-4dc9-9464-7a00ef32ca9b",
   "metadata": {},
   "outputs": [],
   "source": [
    "%%R\n",
    "filter_data <- merge(mod09, modocga, by=c(\"YY\",\"MM\",\"DD\",\"sites\", \"date\"),all = T) \n",
    "data_refl_lst_aqua <- merge(filter_data, df_lst_aqua, by=c(\"YY\",\"MM\",\"DD\",\"sites\", \"date\"),all = T)\n",
    "data_refl_lst <- merge(data_refl_lst_aqua, df_lst_terra, by=c(\"YY\",\"MM\",\"DD\",\"sites\", \"date\"),all = T)\n"
   ]
  },
  {
   "cell_type": "markdown",
   "id": "daa74e77-c3e2-46f1-864a-8110100bc52b",
   "metadata": {},
   "source": [
    "<span style=\"color:red\">**To do:**</span> Adapt stateQA if there should be requirements at the state_1km geolocation flag"
   ]
  },
  {
   "cell_type": "code",
   "execution_count": 27,
   "id": "fa4db6ad-f647-4a1e-9458-d8fadafe383b",
   "metadata": {
    "tags": []
   },
   "outputs": [],
   "source": [
    "%%R\n",
    "stateQA = FALSE\n",
    "# Set state_1km geolocation flag\n",
    "# https://lpdaac.usgs.gov/documents/306/MOD09_User_Guide_V6.pdfTable 13\n",
    "qflags_state  <- sort(unique(data_refl_lst$state_1km))# 16 bit\n",
    "QC_Data_state <- data.frame(Integer_Value = qflags_state, \n",
    "                        Bit15 = NA, Bit14 = NA, Bit13 = NA, Bit12 = NA, Bit11 = NA,\n",
    "                        Bit10 = NA, Bit9 = NA,  Bit8 = NA,  Bit7 = NA,  Bit6 = NA,  Bit5 = NA,  Bit4 = NA,  Bit3 = NA,  Bit2 = NA,  Bit1 = NA,\n",
    "                        Bit0 = NA)\n",
    "if(stateQA){\n",
    "    qflags_state <- sort(unique(data_refl_lst_aqua$state_1km)) # 16 bits\n",
    "\n",
    "    state_Data <- data.frame(Integer_Value = qflags_state, # In an unsigned representation, these values are the integers between 0 and 65535\n",
    "                               Bit15 = NA, Bit14 = NA, Bit13 = NA, Bit12 = NA, Bit11 = NA,\n",
    "                               Bit10 = NA, Bit9 = NA,  Bit8 = NA,  Bit7 = NA,  Bit6 = NA,  \n",
    "                               Bit5 = NA,  Bit4 = NA,  Bit3 = NA,  Bit2 = NA,  Bit1 = NA,\n",
    "                               Bit0 = NA)\n",
    "    r <- 0\n",
    "    for (i in state_Data$Integer_Value){\n",
    "        AsInt <- as.integer(intToBits(i)[1:16])\n",
    "        # AsInt <- as.integer(as.logical(as.binary(i, n=16, logic=F)))\n",
    "        state_Data[r+1,2:17]<- AsInt[16:1]\n",
    "        r <- r+1\n",
    "    }\n",
    "# !!!!!!!!!!!!!!!!!!!!!!! QC_Data_MODOCGA_b8_b15 ... !!!!!!!!!!!!!!!!!!!!!!!!!!!!!!!!!\n",
    "    # my_data <- as_tibble(QC_Data_state)\n",
    "    bits <- c(4,5,7:9,15:17) # chosen:      0-1 (cloud state: 00) \n",
    "                             #                2 (cloud shadow: 0) \n",
    "                             #              8-9 (no or small cirrus: 00 or 01) \n",
    "                             #               10 (internal cloud algorithmL: 0)  \n",
    "                             #               12 (MOD35 snow/ice flag: 0) \n",
    "                             #               13 (pixel is adjacent to cloud: 0)\n",
    "                             # not chosen:  3-5 (land/water flag: 000)  6-7 (Sensor range valid: 00) 11 (internal fire algorithm: 00) 14 (salt pan: 0) 15 (internal snow mask: 0)\n",
    "\n",
    "    filter_qflags <- state_Data %>% select(1,bits) %>% \n",
    "        filter_at(vars(-Integer_Value), all_vars(.== 0)) %>% \n",
    "        select(1)\n",
    "\n",
    "    data_refl_lst_aqua <- data_refl_lst_aqua %>% \n",
    "        filter_at(vars(state_1km), all_vars(.%in% filter_qflags$Integer_Value))\n",
    "}"
   ]
  },
  {
   "cell_type": "code",
   "execution_count": 28,
   "id": "c3712b64-b029-4bc6-8a5e-d684fe44177f",
   "metadata": {},
   "outputs": [],
   "source": [
    "%%R\n",
    "# Create Indices: NDVI, EVI, NIRv, CCI, PRI\n",
    "data_refl_lst$ndvi <- (data_refl_lst$b02  - data_refl_lst$b01 )/(data_refl_lst$b02 + data_refl_lst$b01)\n",
    "data_refl_lst$evi <-  2.5 * (data_refl_lst$b02 - data_refl_lst$b01) / (data_refl_lst$b02 + 6 * data_refl_lst$b01 - 7.5 * data_refl_lst_aqua$b03 + 0.0001)\n",
    "data_refl_lst$NIRv <- data_refl_lst$ndvi * (data_refl_lst$sur_refl_b02 * 0.0001)  #NIR\n",
    "data_refl_lst$cci <- (data_refl_lst$b11 - data_refl_lst$b01)/(data_refl_lst$b11 + data_refl_lst$b01) \n",
    "data_refl_lst$pri <- (data_refl_lst$b11 - data_refl_lst$b12)/(data_refl_lst$b11 + data_refl_lst$b12)"
   ]
  },
  {
   "cell_type": "code",
   "execution_count": 29,
   "id": "f765fcf0-442f-404c-8001-81e8f5c59c7e",
   "metadata": {},
   "outputs": [],
   "source": [
    "%%R\n",
    "## aggregate to daily mean values (multiple data points given per day in original dataset) and remove outliers\n",
    "ddf_aggregated <- data_refl_lst %>% group_by( sites, YY, MM, DD, date) %>%\n",
    "                summarise_at( vars( one_of( c( \"lst_aqua\", \"lst_terra\", \"b01\", \"b02\", \"b03\", \"b04\", \"b05\", \"b06\", \"b07\", \"b08\", \"b09\", \"b10\", \"b11\", \"b12\", \"b13\", \"b14\", \"b15\",  \"b16\",\"ndvi\", \"evi\", \n",
    "                                              \"cci\", \"pri\", \"NIRv\") ) ), list( ~mean(., na.rm=TRUE) ) ) %>%\n",
    "                mutate_at( vars( one_of( c(\"lst_aqua\", \"lst_terra\", \"b01\", \"b02\", \"b03\", \"b04\", \"b05\", \"b06\", \"b07\", \"b08\", \"b09\", \"b10\", \"b11\", \"b12\", \"b13\", \"b14\", \"b15\",  \"b16\",\n",
    "                                           \"ndvi\", \"evi\", \"cci\", \"pri\", \"NIRv\"))), list( ~remove_outliers(., coef=3.0) ) )"
   ]
  },
  {
   "cell_type": "code",
   "execution_count": 30,
   "id": "6d83790f-1c15-4f74-96d7-c3186e7528fa",
   "metadata": {
    "scrolled": true,
    "tags": []
   },
   "outputs": [
    {
     "name": "stdout",
     "output_type": "stream",
     "text": [
      "    sites                 YY             MM               DD       \n",
      " Length:241826      Min.   :2000   Min.   : 1.000   Min.   : 1.00  \n",
      " Class :character   1st Qu.:2005   1st Qu.: 4.000   1st Qu.: 8.00  \n",
      " Mode  :character   Median :2008   Median : 7.000   Median :16.00  \n",
      "                    Mean   :2008   Mean   : 6.545   Mean   :15.71  \n",
      "                    3rd Qu.:2011   3rd Qu.:10.000   3rd Qu.:23.00  \n",
      "                    Max.   :2014   Max.   :12.000   Max.   :31.00  \n",
      "                                                                   \n",
      "      date               lst_aqua        lst_terra           b01         \n",
      " Min.   :2000-02-24   Min.   :233.9    Min.   :234.6    Min.   :  -47.5  \n",
      " 1st Qu.:2005-03-19   1st Qu.:286.8    1st Qu.:285.1    1st Qu.:  720.1  \n",
      " Median :2008-09-04   Median :295.3    Median :293.9    Median : 2198.5  \n",
      " Mean   :2008-05-22   Mean   :295.4    Mean   :293.1    Mean   : 3262.1  \n",
      " 3rd Qu.:2011-10-07   3rd Qu.:304.6    3rd Qu.:301.9    3rd Qu.: 5671.5  \n",
      " Max.   :2014-12-30   Max.   :337.1    Max.   :330.6    Max.   :15863.0  \n",
      "                      NA's   :154917   NA's   :141433   NA's   :6992     \n",
      "      b02             b03               b04               b05         \n",
      " Min.   : -100   Min.   :  -51.0   Min.   :  -38.5   Min.   :   -9.5  \n",
      " 1st Qu.: 2520   1st Qu.:  410.5   1st Qu.:  713.2   1st Qu.: 2662.0  \n",
      " Median : 3696   Median : 2057.0   Median : 2158.2   Median : 3596.0  \n",
      " Mean   : 4308   Mean   : 3111.5   Mean   : 3271.5   Mean   : 4040.8  \n",
      " 3rd Qu.: 5962   3rd Qu.: 5674.2   3rd Qu.: 5713.5   3rd Qu.: 5403.8  \n",
      " Max.   :16000   Max.   :14414.5   Max.   :15445.8   Max.   :15178.5  \n",
      " NA's   :5399    NA's   :7754      NA's   :6987      NA's   :14845    \n",
      "      b06                b07                b08              b09        \n",
      " Min.   :   45.25   Min.   :  -16.25   Min.   :-0.010   Min.   :-0.010  \n",
      " 1st Qu.: 1690.50   1st Qu.:  817.00   1st Qu.: 0.026   1st Qu.: 0.016  \n",
      " Median : 2527.50   Median : 1471.50   Median : 0.142   Median : 0.048  \n",
      " Mean   : 2857.74   Mean   : 1772.29   Mean   : 0.267   Mean   : 0.175  \n",
      " 3rd Qu.: 3806.00   3rd Qu.: 2511.25   3rd Qu.: 0.495   3rd Qu.: 0.277  \n",
      " Max.   :14967.00   Max.   :13456.00   Max.   : 1.380   Max.   : 1.372  \n",
      " NA's   :7189       NA's   :7037       NA's   :5564     NA's   :5309    \n",
      "      b10              b11              b12              b13        \n",
      " Min.   :-0.010   Min.   :-0.010   Min.   :-0.010   Min.   :-0.010  \n",
      " 1st Qu.:-0.010   1st Qu.:-0.010   1st Qu.:-0.010   1st Qu.:-0.010  \n",
      " Median : 0.032   Median : 0.033   Median : 0.027   Median :-0.010  \n",
      " Mean   : 0.098   Mean   : 0.072   Mean   : 0.060   Mean   : 0.012  \n",
      " 3rd Qu.: 0.106   3rd Qu.: 0.083   3rd Qu.: 0.076   3rd Qu.: 0.023  \n",
      " Max.   : 1.282   Max.   : 1.322   Max.   : 1.406   Max.   : 1.048  \n",
      " NA's   :5286     NA's   :5325     NA's   :5273     NA's   :5331    \n",
      "      b14              b15              b16              ndvi       \n",
      " Min.   :-0.010   Min.   :0.00     Min.   :    5    Min.   :-0.377  \n",
      " 1st Qu.:-0.010   1st Qu.:0.09     1st Qu.: 1221    1st Qu.: 0.025  \n",
      " Median :-0.010   Median :0.13     Median : 1687    Median : 0.196  \n",
      " Mean   : 0.017   Mean   :0.16     Mean   : 1933    Mean   : 0.288  \n",
      " 3rd Qu.: 0.032   3rd Qu.:0.18     3rd Qu.: 2310    3rd Qu.: 0.532  \n",
      " Max.   : 1.156   Max.   :0.84     Max.   :10216    Max.   : 1.750  \n",
      " NA's   :5296     NA's   :228005   NA's   :224599   NA's   :7431    \n",
      "      evi                cci              pri              NIRv       \n",
      " Min.   :  -21067   Min.   :-1.023   Min.   :-9.667   Min.   :-0.125  \n",
      " 1st Qu.:       0   1st Qu.:-1.000   1st Qu.:-0.054   1st Qu.: 0.015  \n",
      " Median :       1   Median :-1.000   Median : 0.000   Median : 0.060  \n",
      " Mean   :     282   Mean   :-1.000   Mean   : 0.030   Mean   : 0.082  \n",
      " 3rd Qu.:       2   3rd Qu.:-1.000   3rd Qu.: 0.000   3rd Qu.: 0.124  \n",
      " Max.   :30729848   Max.   : 1.000   Max.   : 3.971   Max.   : 0.616  \n",
      " NA's   :8201       NA's   :7425     NA's   :5336     NA's   :7431    \n"
     ]
    }
   ],
   "source": [
    "%%R\n",
    "summary(ddf_aggregated)"
   ]
  },
  {
   "cell_type": "code",
   "execution_count": 31,
   "id": "5f8ff0c2-0c9b-4586-bf63-b4797d12aed7",
   "metadata": {},
   "outputs": [],
   "source": [
    "%%R\n",
    "write_csv(ddf_aggregated, path = \"./data/FLUXNET_MODOCGA_MOD09GA_MYD11A1_MOD11A1.csv\")"
   ]
  },
  {
   "cell_type": "code",
   "execution_count": null,
   "id": "b351b1a8-49e3-4fc5-8ce4-48b98e31ba75",
   "metadata": {},
   "outputs": [],
   "source": []
  }
 ],
 "metadata": {
  "kernelspec": {
   "display_name": "Python 3 (ipykernel)",
   "language": "python",
   "name": "python3"
  },
  "language_info": {
   "codemirror_mode": {
    "name": "ipython",
    "version": 3
   },
   "file_extension": ".py",
   "mimetype": "text/x-python",
   "name": "python",
   "nbconvert_exporter": "python",
   "pygments_lexer": "ipython3",
   "version": "3.10.1"
  }
 },
 "nbformat": 4,
 "nbformat_minor": 5
}
